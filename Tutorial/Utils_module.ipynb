{
 "cells": [
  {
   "cell_type": "markdown",
   "id": "ddad11a7-99d8-44fe-b52d-be6633c90e08",
   "metadata": {},
   "source": [
    "# Utils module"
   ]
  },
  {
   "cell_type": "markdown",
   "id": "4f735a13-f2a2-4330-9ae5-623f8f829652",
   "metadata": {},
   "source": [
    "The utils module has a variety of utilities mostly focussed on greping on output files of different codes. This tools combined can be usefull for various porpuses.\n",
    "\n",
    "**<font color='red'>So far the code supports:</font>**\n",
    "- **Grepping the number of electrons** of Quantum Espresso and VASP outputs.\n",
    "- **Grepping the Fermi level**.\n",
    "- **Grep the lattice parameters**.\n",
    "- **Grep the path** from a Quantum Espresso bands.pwi input.\n",
    "- **Grep the path** from a KPATH in the [TQC website](https://www.topologicalquantumchemistry.fr/#/) format. (Enter in any compound and click in the Download KPATH link)\n",
    "---\n",
    ">*The **documentation** of every function is accesible with the usual **shift + tab** shortcut.*\n",
    "---"
   ]
  },
  {
   "cell_type": "code",
   "execution_count": 2,
   "id": "2c8314aa-c5f7-4b66-9d4d-77dd35574405",
   "metadata": {},
   "outputs": [],
   "source": [
    "from yaiv import utils"
   ]
  },
  {
   "cell_type": "markdown",
   "id": "3bdf09e3-c9c8-4978-a121-fb4effed95b4",
   "metadata": {},
   "source": [
    "## Grepping tools"
   ]
  },
  {
   "cell_type": "code",
   "execution_count": 3,
   "id": "1be5e2fc-c1b3-4e18-9387-3dc8e66e2e67",
   "metadata": {},
   "outputs": [
    {
     "name": "stdout",
     "output_type": "stream",
     "text": [
      "Quantum espreesso used 73 electrons\n",
      "VASP used 73 electrons\n"
     ]
    }
   ],
   "source": [
    "#Number of electrons (usefull for differ valence and conduction bands)\n",
    "print('Quantum espreesso used',utils.grep_electrons('DATA/bands/QE/results_scf/CsV3Sb5.scf.pwo'),'electrons')\n",
    "print('VASP used',utils.grep_electrons('DATA/bands/VASP/OUTCAR_SCC',filetype='vasp'),'electrons')"
   ]
  },
  {
   "cell_type": "code",
   "execution_count": 4,
   "id": "3689a1d2-e4c0-453f-a46f-e804495ff12b",
   "metadata": {},
   "outputs": [
    {
     "name": "stdout",
     "output_type": "stream",
     "text": [
      "Quantum espreesso's fermi level is 7.72 eV\n",
      "VASP's fermi level is 5.5679 eV\n"
     ]
    }
   ],
   "source": [
    "#Fermi level\n",
    "print('Quantum espreesso\\'s fermi level is',utils.grep_fermi('DATA/bands/QE/results_scf/CsV3Sb5.scf.pwo'),'eV')\n",
    "print('VASP\\'s fermi level is',utils.grep_fermi('DATA/bands/VASP/OUTCAR_SCC',filetype='vasp'),'eV')"
   ]
  },
  {
   "cell_type": "code",
   "execution_count": 5,
   "id": "db81f66f-da25-4efb-952e-5a0df2fb16fb",
   "metadata": {},
   "outputs": [
    {
     "name": "stdout",
     "output_type": "stream",
     "text": [
      "Basis in alat units used by Quantum espresso\n",
      "[[ 1.        0.        0.      ]\n",
      " [-0.5       0.866025  0.      ]\n",
      " [ 0.        0.        1.794751]]\n",
      "\n",
      "Basis in alat units used by VASP\n",
      "[[ 1.          0.          0.        ]\n",
      " [-0.5         0.8660254   0.        ]\n",
      " [ 0.          0.          1.79475054]]\n"
     ]
    }
   ],
   "source": [
    "print('Basis in alat units used by Quantum espresso')\n",
    "print(utils.grep_vectors('DATA/bands/QE/results_scf/CsV3Sb5.scf.pwo'))\n",
    "print()\n",
    "print('Basis in alat units used by VASP')\n",
    "print(utils.grep_vectors('DATA/bands/VASP/OUTCAR_SCC',filetype='vasp'))"
   ]
  },
  {
   "cell_type": "code",
   "execution_count": 6,
   "id": "635b2362-5940-439d-a84e-83b75462afcc",
   "metadata": {},
   "outputs": [
    {
     "name": "stdout",
     "output_type": "stream",
     "text": [
      "Reciprocal space positions defining the band structure path\n",
      "you need to introduce 10 labels\n",
      "[[  0.        0.        0.      100.     ]\n",
      " [  0.5       0.        0.      100.     ]\n",
      " [  0.33333   0.33333   0.      100.     ]\n",
      " [  0.        0.        0.      100.     ]\n",
      " [  0.        0.        0.5     100.     ]\n",
      " [  0.5       0.        0.5     100.     ]\n",
      " [  0.33333   0.33333   0.5     100.     ]\n",
      " [  0.        0.        0.5       1.     ]\n",
      " [  0.5       0.        0.5     100.     ]\n",
      " [  0.5       0.        0.        1.     ]\n",
      " [  0.33333   0.33333   0.      100.     ]\n",
      " [  0.33333   0.33333   0.5       1.     ]]\n"
     ]
    }
   ],
   "source": [
    "#Crystal positions of HSP defining the path\n",
    "print('Reciprocal space positions defining the band structure path')\n",
    "print(utils.grep_ticks_QE('DATA/bands/QE/results_bands/CsV3Sb5.bands.pwi'))"
   ]
  },
  {
   "cell_type": "code",
   "execution_count": 7,
   "id": "8dc6df21-09b2-462d-a02d-8a54473e5950",
   "metadata": {},
   "outputs": [
    {
     "name": "stdout",
     "output_type": "stream",
     "text": [
      "The path is defined by:\n",
      "[[  0.           0.           0.         100.        ]\n",
      " [  0.5          0.           0.         100.        ]\n",
      " [  0.33333333   0.33333333   0.         100.        ]\n",
      " [  0.           0.           0.         100.        ]\n",
      " [  0.           0.           0.5        100.        ]\n",
      " [  0.5          0.           0.5        100.        ]\n",
      " [  0.33333333   0.33333333   0.5        100.        ]\n",
      " [  0.           0.           0.5          1.        ]\n",
      " [  0.5          0.           0.5        100.        ]\n",
      " [  0.5          0.           0.           1.        ]\n",
      " [  0.33333333   0.33333333   0.         100.        ]\n",
      " [  0.33333333   0.33333333   0.5          1.        ]]\n",
      "Where each points corresponds to the label\n",
      "['$\\\\Gamma$', '$M$', '$K$', '$\\\\Gamma$', '$A$', '$L$', '$H$', '$A|L$', '$M|K$', '$H$']\n"
     ]
    }
   ],
   "source": [
    "#Read the KPATH for the band structure according to the (https://www.topologicalquantumchemistry.fr/) format:\n",
    "path,labels=utils.grep_ticks_labels_KPATH('DATA/bands/KPATH')\n",
    "print('The path is defined by:')\n",
    "print(path)\n",
    "print('Where each points corresponds to the label')\n",
    "print(labels)"
   ]
  }
 ],
 "metadata": {
  "kernelspec": {
   "display_name": "test_env",
   "language": "python",
   "name": "test_env"
  },
  "language_info": {
   "codemirror_mode": {
    "name": "ipython",
    "version": 3
   },
   "file_extension": ".py",
   "mimetype": "text/x-python",
   "name": "python",
   "nbconvert_exporter": "python",
   "pygments_lexer": "ipython3",
   "version": "3.10.8"
  }
 },
 "nbformat": 4,
 "nbformat_minor": 5
}
