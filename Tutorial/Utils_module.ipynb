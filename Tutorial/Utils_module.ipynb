{
 "cells": [
  {
   "cell_type": "markdown",
   "id": "ddad11a7-99d8-44fe-b52d-be6633c90e08",
   "metadata": {},
   "source": [
    "# **Utils module**"
   ]
  },
  {
   "cell_type": "markdown",
   "id": "4f735a13-f2a2-4330-9ae5-623f8f829652",
   "metadata": {
    "tags": []
   },
   "source": [
    "The utils module has a variety of utilities mostly focussed on greping on output files of different codes. This tools combined can be usefull for various porpuses.\n",
    "\n",
    "**<font color='red'>So far the code supports:</font>**\n",
    "### **Grepping** tools (either by calling the function or using the **file class**):\n",
    "- Grepping the **number of electrons** of Quantum Espresso and VASP outputs. *(grep_electrons)*\n",
    "- Grepping the **Fermi level**. *(grep_fermi)*\n",
    "- Grep the **lattice parameters**. *(grep_lattice)*\n",
    "- Grep the **path** from a Quantum Espresso bands.pwi or madyn.in input. *(grep_ticks_QE)*\n",
    "- Grep the **path** from a KPATH in the [TQC website](https://www.topologicalquantumchemistry.fr/#/) format. (Enter in any compound and click in the Download KPATH link). *(grep_ticks_labels_KPATH)*\n",
    "- Grep the **phonon grid** from a Quantum Espresso ph.x output. *(grep_ph_grid_points)*\n",
    "\n",
    "### **Transforming** tools (mainly usefull changes of coordinates):\n",
    "- **K_basis**: Obtaining the reciprocal lattice vectors.\n",
    "- **cartesian2cryst**: From cartesian to crystal coordinates.\n",
    "- **cryst2cartesian**: From crystal to cartesian coordinates.\n",
    "- **cartesian2spherical**: From cartesian to spherical coordinates.\n",
    "- **cryst2spherical**: From crystal to spherical coordinates.\n",
    "---\n",
    ">*The **documentation** of every function is accesible with the usual **shift + tab** shortcut.*\n",
    "---"
   ]
  },
  {
   "cell_type": "markdown",
   "id": "3bdf09e3-c9c8-4978-a121-fb4effed95b4",
   "metadata": {},
   "source": [
    "# I. Grepping tools"
   ]
  },
  {
   "cell_type": "code",
   "execution_count": 1,
   "id": "c93ac3e8-6720-44ac-951f-6dffc6513c77",
   "metadata": {},
   "outputs": [],
   "source": [
    "from yaiv import utils"
   ]
  },
  {
   "cell_type": "code",
   "execution_count": 12,
   "id": "1db08c2c-a9cc-4bca-be62-5feae73df245",
   "metadata": {},
   "outputs": [],
   "source": [
    "#Read the data files\n",
    "qe_out=utils.file('DATA/bands/QE/results_scf/CsV3Sb5.scf.pwo')\n",
    "vasp_out=utils.file('DATA/bands/VASP/OUTCAR_SCC')"
   ]
  },
  {
   "cell_type": "markdown",
   "id": "5ecfe704-68f0-4039-a08b-ece13a9e2424",
   "metadata": {},
   "source": [
    "## Electrons"
   ]
  },
  {
   "cell_type": "code",
   "execution_count": 4,
   "id": "1be5e2fc-c1b3-4e18-9387-3dc8e66e2e67",
   "metadata": {},
   "outputs": [
    {
     "name": "stdout",
     "output_type": "stream",
     "text": [
      "Quantum espreesso used 73 electrons\n",
      "VASP used 73 electrons\n"
     ]
    }
   ],
   "source": [
    "#Number of electrons (usefull for differ valence and conduction bands)\n",
    "print('Quantum espreesso used',qe_out.electrons,'electrons')\n",
    "print('VASP used',vasp_out.electrons,'electrons')"
   ]
  },
  {
   "cell_type": "markdown",
   "id": "30d77d4c-3301-4109-a7d6-79f2731aae2e",
   "metadata": {},
   "source": [
    "## Fermi level"
   ]
  },
  {
   "cell_type": "code",
   "execution_count": 5,
   "id": "3689a1d2-e4c0-453f-a46f-e804495ff12b",
   "metadata": {},
   "outputs": [
    {
     "name": "stdout",
     "output_type": "stream",
     "text": [
      "Quantum espreesso's fermi level is 7.72 eV\n",
      "VASP's fermi level is 5.5679 eV\n"
     ]
    }
   ],
   "source": [
    "#Fermi level\n",
    "print('Quantum espreesso\\'s fermi level is',qe_out.fermi,'eV')\n",
    "print('VASP\\'s fermi level is',vasp_out.fermi,'eV')"
   ]
  },
  {
   "cell_type": "markdown",
   "id": "44202838-3dce-4e52-b2ff-94bfde84fbbc",
   "metadata": {},
   "source": [
    "## Lattice"
   ]
  },
  {
   "cell_type": "code",
   "execution_count": 6,
   "id": "db81f66f-da25-4efb-952e-5a0df2fb16fb",
   "metadata": {},
   "outputs": [
    {
     "name": "stdout",
     "output_type": "stream",
     "text": [
      "Basis used by Quantum espresso\n",
      "[[ 5.50369168  0.          0.        ]\n",
      " [-2.75184584  4.76633459  0.        ]\n",
      " [ 0.          0.          9.87775615]]\n",
      "\n",
      "Basis used by VASP\n",
      "[[ 5.50369185  0.          0.        ]\n",
      " [-2.75184592  4.76633695  0.        ]\n",
      " [ 0.          0.          9.87775389]]\n"
     ]
    }
   ],
   "source": [
    "print('Basis used by Quantum espresso')\n",
    "print(qe_out.lattice)\n",
    "print()\n",
    "print('Basis used by VASP')\n",
    "print(vasp_out.lattice)"
   ]
  },
  {
   "cell_type": "code",
   "execution_count": 11,
   "id": "03b7e28a-ee91-4ac0-8f73-3c45116961ad",
   "metadata": {},
   "outputs": [
    {
     "name": "stdout",
     "output_type": "stream",
     "text": [
      "Reciprocal lattice:\n",
      "[[0.18169622 0.10490241 0.        ]\n",
      " [0.         0.20980483 0.        ]\n",
      " [0.         0.         0.10123757]]\n"
     ]
    }
   ],
   "source": [
    "print('Reciprocal lattice:')\n",
    "print(qe_out.reciprocal_lattice())"
   ]
  },
  {
   "cell_type": "markdown",
   "id": "01033f6b-25e4-4134-bbbb-b231b0734958",
   "metadata": {},
   "source": [
    "## K-paths"
   ]
  },
  {
   "cell_type": "code",
   "execution_count": 9,
   "id": "635b2362-5940-439d-a84e-83b75462afcc",
   "metadata": {},
   "outputs": [
    {
     "name": "stdout",
     "output_type": "stream",
     "text": [
      "Reciprocal space positions defining the band structure path\n",
      "[[  0.        0.        0.      100.     ]\n",
      " [  0.5       0.        0.      100.     ]\n",
      " [  0.33333   0.33333   0.      100.     ]\n",
      " [  0.        0.        0.      100.     ]\n",
      " [  0.        0.        0.5     100.     ]\n",
      " [  0.5       0.        0.5     100.     ]\n",
      " [  0.33333   0.33333   0.5     100.     ]\n",
      " [  0.        0.        0.5       1.     ]\n",
      " [  0.5       0.        0.5     100.     ]\n",
      " [  0.5       0.        0.        1.     ]\n",
      " [  0.33333   0.33333   0.      100.     ]\n",
      " [  0.33333   0.33333   0.5       1.     ]]\n"
     ]
    }
   ],
   "source": [
    "#Crystal positions of HSP defining the path\n",
    "qe_in=utils.file('DATA/bands/QE/results_bands/CsV3Sb5.bands.pwi')\n",
    "print('Reciprocal space positions defining the band structure path')\n",
    "print(qe_in.path)"
   ]
  },
  {
   "cell_type": "code",
   "execution_count": 5,
   "id": "8dc6df21-09b2-462d-a02d-8a54473e5950",
   "metadata": {},
   "outputs": [
    {
     "name": "stdout",
     "output_type": "stream",
     "text": [
      "The path is defined by:\n",
      "[[  0.           0.           0.         100.        ]\n",
      " [  0.5          0.           0.         100.        ]\n",
      " [  0.33333333   0.33333333   0.         100.        ]\n",
      " [  0.           0.           0.         100.        ]\n",
      " [  0.           0.           0.5        100.        ]\n",
      " [  0.5          0.           0.5        100.        ]\n",
      " [  0.33333333   0.33333333   0.5        100.        ]\n",
      " [  0.           0.           0.5          1.        ]\n",
      " [  0.5          0.           0.5        100.        ]\n",
      " [  0.5          0.           0.           1.        ]\n",
      " [  0.33333333   0.33333333   0.         100.        ]\n",
      " [  0.33333333   0.33333333   0.5          1.        ]]\n",
      "Where each points corresponds to the label\n",
      "['$\\\\Gamma$', '$M$', '$K$', '$\\\\Gamma$', '$A$', '$L$', '$H$', '$A|L$', '$M|K$', '$H$']\n"
     ]
    }
   ],
   "source": [
    "#Read the KPATH for the band structure according to the (https://www.topologicalquantumchemistry.fr/) format:\n",
    "KPATH=utils.file('DATA/bands/KPATH')\n",
    "print('The path is defined by:')\n",
    "print(KPATH.path)\n",
    "print('Where each points corresponds to the label')\n",
    "print(KPATH.labels)"
   ]
  },
  {
   "cell_type": "markdown",
   "id": "5b223756-b167-43fd-a740-617bed1724be",
   "metadata": {},
   "source": [
    "## Phonon grid"
   ]
  },
  {
   "cell_type": "code",
   "execution_count": 8,
   "id": "1b837cdc-0ab1-4f7f-8b1b-244ebccde1e1",
   "metadata": {},
   "outputs": [
    {
     "name": "stdout",
     "output_type": "stream",
     "text": [
      "The phonon grid used in the calculation is:\n",
      "[[ 0.     0.     0.   ]\n",
      " [ 0.     0.    -0.5  ]\n",
      " [ 0.     0.333  0.   ]\n",
      " [-0.333  0.333  0.   ]\n",
      " [ 0.333 -0.     0.   ]\n",
      " [-0.333  0.     0.   ]\n",
      " [ 0.333 -0.333  0.   ]\n",
      " [ 0.    -0.333  0.   ]\n",
      " [ 0.     0.333 -0.5  ]\n",
      " [-0.333  0.333 -0.5  ]\n",
      " [ 0.333 -0.    -0.5  ]\n",
      " [-0.333  0.    -0.5  ]\n",
      " [ 0.333 -0.333 -0.5  ]\n",
      " [ 0.    -0.333  0.5  ]\n",
      " [ 0.333  0.333  0.   ]\n",
      " [-0.333 -0.333  0.   ]\n",
      " [ 0.333  0.333 -0.5  ]\n",
      " [-0.333 -0.333  0.5  ]]\n"
     ]
    }
   ],
   "source": [
    "#Read the phonon grid and structure from a ph.x output\n",
    "ph_out=utils.file('DATA/phonons/3x3x2/results_ph/CsV3Sb5.ph.pwo')\n",
    "ph_out.grep_ph_grid_points()\n",
    "print('The phonon grid used in the calculation is:')\n",
    "print(ph_out.ph_grid_points)"
   ]
  }
 ],
 "metadata": {
  "kernelspec": {
   "display_name": "YAIV-dev",
   "language": "python",
   "name": "yaiv-dev"
  },
  "language_info": {
   "codemirror_mode": {
    "name": "ipython",
    "version": 3
   },
   "file_extension": ".py",
   "mimetype": "text/x-python",
   "name": "python",
   "nbconvert_exporter": "python",
   "pygments_lexer": "ipython3",
   "version": "3.10.9"
  }
 },
 "nbformat": 4,
 "nbformat_minor": 5
}
