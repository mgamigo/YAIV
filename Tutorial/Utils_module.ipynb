{
 "cells": [
  {
   "cell_type": "markdown",
   "id": "ddad11a7-99d8-44fe-b52d-be6633c90e08",
   "metadata": {},
   "source": [
    "# **Utils module**"
   ]
  },
  {
   "cell_type": "markdown",
   "id": "4f735a13-f2a2-4330-9ae5-623f8f829652",
   "metadata": {
    "tags": []
   },
   "source": [
    "The utils module has a variety of utilities mostly focussed on greping on output files of different codes. This tools combined can be usefull for various porpuses.\n",
    "\n",
    "**<font color='red'>So far the code supports:</font>**\n",
    "### **Grepping** tools (either by calling the function or using the **file class**):\n",
    "- Grepping the **number of electrons** of Quantum Espresso and VASP outputs. *(grep_electrons)*\n",
    "- Grepping the **Fermi level**. *(grep_fermi)*\n",
    "- Grep the **lattice parameters**. *(grep_lattice)*\n",
    "- Grep the **path** from a Quantum Espresso bands.pwi or madyn.in input. *(grep_ticks_QE)*\n",
    "- Grep the **path** from a KPATH in the [TQC website](https://www.topologicalquantumchemistry.fr/#/) format. (Enter in any compound and click in the Download KPATH link). *(grep_ticks_labels_KPATH)*\n",
    "- Grep the **phonon grid** from a Quantum Espresso ph.x output. *(grep_ph_grid_points)*\n",
    "- Grep the **total energy** from a Quantum Espresso ph.x output. *(grep_total_energy)*\n",
    "\n",
    "### **Transforming** tools (mainly usefull changes of coordinates):\n",
    "- **K_basis**: Obtaining the reciprocal lattice vectors.\n",
    "- **cartesian2cryst**: From cartesian to crystal coordinates.\n",
    "- **cryst2cartesian**: From crystal to cartesian coordinates.\n",
    "- **cartesian2spherical**: From cartesian to spherical coordinates.\n",
    "- **spherica2cartesian**: From spherical to cartesian coordinates.\n",
    "- **cryst2spherical**: From crystal to spherical coordinates.\n",
    "- **spherical2cryst**: From spherical to crystal coordinates.\n",
    "- **voigt2cartesian**: From voig notation to cartesian notation.\n",
    "- **cartesian2voigt**: From cartesian notation to voig notation.\n",
    "---\n",
    ">*The **documentation** of every function is accesible with the usual **shift + tab** shortcut.*\n",
    "---"
   ]
  },
  {
   "cell_type": "markdown",
   "id": "3bdf09e3-c9c8-4978-a121-fb4effed95b4",
   "metadata": {},
   "source": [
    "# **I. Grepping tools**"
   ]
  },
  {
   "cell_type": "code",
   "execution_count": 2,
   "id": "c93ac3e8-6720-44ac-951f-6dffc6513c77",
   "metadata": {},
   "outputs": [],
   "source": [
    "from yaiv import utils"
   ]
  },
  {
   "cell_type": "code",
   "execution_count": 19,
   "id": "1db08c2c-a9cc-4bca-be62-5feae73df245",
   "metadata": {},
   "outputs": [],
   "source": [
    "#Read the data files\n",
    "qe_out=utils.file('DATA/convergence/cutoff/10x10x10/80/Cl2NbO.scf.pwo')\n",
    "vasp_out=utils.file('DATA/bands/VASP/OUTCAR_SCC')"
   ]
  },
  {
   "cell_type": "markdown",
   "id": "5ecfe704-68f0-4039-a08b-ece13a9e2424",
   "metadata": {},
   "source": [
    "## Electrons"
   ]
  },
  {
   "cell_type": "code",
   "execution_count": 20,
   "id": "1be5e2fc-c1b3-4e18-9387-3dc8e66e2e67",
   "metadata": {},
   "outputs": [
    {
     "name": "stdout",
     "output_type": "stream",
     "text": [
      "Quantum espreesso used 33 electrons\n",
      "VASP used 73 electrons\n"
     ]
    }
   ],
   "source": [
    "#Number of electrons (usefull for differ valence and conduction bands)\n",
    "print('Quantum espreesso used',qe_out.electrons,'electrons')\n",
    "print('VASP used',vasp_out.electrons,'electrons')"
   ]
  },
  {
   "cell_type": "markdown",
   "id": "30d77d4c-3301-4109-a7d6-79f2731aae2e",
   "metadata": {},
   "source": [
    "## Fermi level"
   ]
  },
  {
   "cell_type": "code",
   "execution_count": 21,
   "id": "3689a1d2-e4c0-453f-a46f-e804495ff12b",
   "metadata": {},
   "outputs": [
    {
     "name": "stdout",
     "output_type": "stream",
     "text": [
      "Quantum espreesso's fermi level is 6.6681 eV\n",
      "VASP's fermi level is 5.5679 eV\n"
     ]
    }
   ],
   "source": [
    "#Fermi level\n",
    "print('Quantum espreesso\\'s fermi level is',qe_out.fermi,'eV')\n",
    "print('VASP\\'s fermi level is',vasp_out.fermi,'eV')"
   ]
  },
  {
   "cell_type": "markdown",
   "id": "44202838-3dce-4e52-b2ff-94bfde84fbbc",
   "metadata": {},
   "source": [
    "## Lattice"
   ]
  },
  {
   "cell_type": "code",
   "execution_count": 22,
   "id": "db81f66f-da25-4efb-952e-5a0df2fb16fb",
   "metadata": {},
   "outputs": [
    {
     "name": "stdout",
     "output_type": "stream",
     "text": [
      "Basis used by Quantum espresso\n",
      "[[-1.6792471   1.95239818  6.1913528 ]\n",
      " [ 1.6792471  -1.95239818  6.1913528 ]\n",
      " [ 1.6792471   1.95239818 -6.1913528 ]]\n",
      "\n",
      "Basis used by VASP\n",
      "[[ 5.50369185  0.          0.        ]\n",
      " [-2.75184592  4.76633695  0.        ]\n",
      " [ 0.          0.          9.87775389]]\n"
     ]
    }
   ],
   "source": [
    "print('Basis used by Quantum espresso')\n",
    "print(qe_out.lattice)\n",
    "print()\n",
    "print('Basis used by VASP')\n",
    "print(vasp_out.lattice)"
   ]
  },
  {
   "cell_type": "code",
   "execution_count": 24,
   "id": "03b7e28a-ee91-4ac0-8f73-3c45116961ad",
   "metadata": {},
   "outputs": [
    {
     "name": "stdout",
     "output_type": "stream",
     "text": [
      "Reciprocal lattice:\n",
      "[[-0.          0.2560953   0.08075779]\n",
      " [ 0.29775249  0.          0.08075779]\n",
      " [ 0.29775249  0.2560953   0.        ]]\n"
     ]
    }
   ],
   "source": [
    "print('Reciprocal lattice:')\n",
    "print(qe_out.reciprocal_lattice())"
   ]
  },
  {
   "cell_type": "markdown",
   "id": "fab5e576-7744-4f24-b71e-4a016519613f",
   "metadata": {},
   "source": [
    "## Total energy (and energy decomposition)"
   ]
  },
  {
   "cell_type": "code",
   "execution_count": 40,
   "id": "afb554a9-0c20-46cd-8e7d-3cd937e0a4ed",
   "metadata": {},
   "outputs": [
    {
     "name": "stdout",
     "output_type": "stream",
     "text": [
      "Total energy in QE: -2802.84673511 Ry\n",
      "Total energy in VASP: -3.8037460738385587 Ry\n"
     ]
    }
   ],
   "source": [
    "print('Total energy in QE:',qe_out.grep_total_energy(),'Ry')\n",
    "print('Total energy in VASP:',vasp_out.grep_total_energy(),'Ry')"
   ]
  },
  {
   "cell_type": "code",
   "execution_count": 45,
   "id": "afe8b4c1-56ef-4218-aa5b-e797d8f7b288",
   "metadata": {},
   "outputs": [
    {
     "name": "stdout",
     "output_type": "stream",
     "text": [
      "Free energy= -38134686.402900256 meV\n",
      "Internal energy= -38134673.84919477 meV\n",
      "Entropy contribution= -12.553705491444612 meV\n",
      "Single electron energy= -7995646.056536026 meV\n",
      "Hartree energy= 4342281.972322391 meV\n",
      "Exchange-correlation energy= -1954294.1937356999 meV\n",
      "Ewald energy= -2316055.5672189496 meV\n"
     ]
    }
   ],
   "source": [
    "qe_out.grep_energy_decomposition(meV=True)\n",
    "print('Free energy=',qe_out.F, 'meV')\n",
    "print('Internal energy=',qe_out.U, 'meV')\n",
    "print('Entropy contribution=',qe_out.TS, 'meV')\n",
    "print('Single electron energy=',qe_out.U_one_electron, 'meV')\n",
    "print('Hartree energy=',qe_out.U_h, 'meV')\n",
    "print('Exchange-correlation energy=',qe_out.U_xc, 'meV')\n",
    "print('Ewald energy=',qe_out.U_ewald, 'meV')"
   ]
  },
  {
   "cell_type": "markdown",
   "id": "d1819f4e-5d16-4fde-8f3c-e06ee68d0477",
   "metadata": {},
   "source": [
    "## Stress tensor"
   ]
  },
  {
   "cell_type": "code",
   "execution_count": 29,
   "id": "53cdf3ac-f2f7-4166-8ca3-328f731c4262",
   "metadata": {},
   "outputs": [
    {
     "name": "stdout",
     "output_type": "stream",
     "text": [
      "Stress tensor in QE\n",
      "[[-41.4571464   -0.           0.        ]\n",
      " [  0.         -38.01194603   0.        ]\n",
      " [  0.          -0.         -38.02665654]]\n",
      "\n",
      "Stress tensor in VASP\n",
      "[[ 5.8164e-01  2.0900e-03  6.8000e-04]\n",
      " [ 2.0900e-03  5.8002e-01  4.4000e-04]\n",
      " [ 6.8000e-04  4.4000e-04 -2.5676e-01]]\n"
     ]
    }
   ],
   "source": [
    "print('Stress tensor in QE')\n",
    "print(qe_out.grep_stress_tensor(kbar=True))\n",
    "print()\n",
    "print('Stress tensor in VASP')\n",
    "print(vasp_out.grep_stress_tensor(kbar=True))"
   ]
  },
  {
   "cell_type": "markdown",
   "id": "84740508-6604-432f-9910-fe51d2fb0e25",
   "metadata": {},
   "source": [
    "## BandGAP"
   ]
  },
  {
   "cell_type": "code",
   "execution_count": 37,
   "id": "68ec9458-607f-4b50-a6c4-8fe2c0809331",
   "metadata": {},
   "outputs": [
    {
     "name": "stdout",
     "output_type": "stream",
     "text": [
      "For QE:\n",
      "Direct gap=  0.0 eV , Indirect gap= 0  meV\n"
     ]
    }
   ],
   "source": [
    "direct,indirect=qe_out.grep_gap()\n",
    "print('For QE:')\n",
    "print('Direct gap= ',direct,'eV , Indirect gap=', indirect, ' meV')"
   ]
  },
  {
   "cell_type": "markdown",
   "id": "82095cca-1216-4303-9d29-d007079f02c0",
   "metadata": {},
   "source": [
    "## Kpoints and energies"
   ]
  },
  {
   "cell_type": "code",
   "execution_count": 57,
   "id": "a17f9c75-8b93-490d-a0e1-2620f4c176ea",
   "metadata": {},
   "outputs": [
    {
     "name": "stdout",
     "output_type": "stream",
     "text": [
      "For QE:\n",
      "Kpoints:\n",
      "[[0.     0.     0.    ]\n",
      " [0.     0.     0.0464]\n",
      " [0.     0.     0.0929]\n",
      " [0.     0.     0.1393]]\n",
      "Energies:\n",
      "[[-56.7108 -56.7108 -56.6458 -56.6458 -56.6458 -56.6458 -31.153  -31.153\n",
      "  -31.1477 -31.1477 -31.0604 -31.0604 -30.3997 -30.3997 -30.3959 -30.3959\n",
      "  -30.3707 -30.3707 -30.224  -30.224  -30.138  -30.138  -29.9971 -29.9971\n",
      "  -15.0582 -15.0582  -3.9028  -3.9028  -3.2902  -3.2902  -2.813   -2.813\n",
      "   -1.8115  -1.8115  -1.3873  -1.3873  -1.3443  -1.3443   0.0835   0.0835\n",
      "    0.398    0.398    3.0871   3.0871   3.616    3.616    3.9141   3.9141\n",
      "    4.4784   4.4784   4.4815   4.4815   4.8767   4.8767   4.8975   4.8975\n",
      "    4.9085   4.9085   5.5622   5.5622   5.6046   5.6046   5.6723   5.6723\n",
      "    5.8312   5.8312   6.0737   6.0737   6.0922   6.0922   6.7118   6.7118\n",
      "    7.2032   7.2032   8.5125   8.515    8.5288   8.5309   8.59     8.5905\n",
      "    8.6263   8.6277   8.7018   8.706    8.9105   8.9315   8.9616   8.9829]\n",
      " [-56.7108 -56.7108 -56.6458 -56.6458 -56.6458 -56.6458 -31.153  -31.153\n",
      "  -31.1477 -31.1477 -31.0604 -31.0604 -30.3997 -30.3997 -30.3959 -30.3959\n",
      "  -30.3707 -30.3707 -30.224  -30.224  -30.138  -30.138  -29.9971 -29.9971\n",
      "  -15.0582 -15.0582  -3.9066  -3.9066  -3.2791  -3.2791  -2.819   -2.819\n",
      "   -1.8159  -1.8159  -1.3873  -1.3873  -1.3421  -1.3421   0.0825   0.0825\n",
      "    0.3993   0.3993   3.101    3.101    3.6175   3.6175   3.9157   3.9157\n",
      "    4.4752   4.4752   4.4753   4.4753   4.8748   4.8748   4.8799   4.8799\n",
      "    4.8945   4.8945   5.5648   5.5648   5.5957   5.5957   5.6746   5.6746\n",
      "    5.854    5.854    6.0742   6.0742   6.0928   6.0928   6.7259   6.7259\n",
      "    7.1836   7.1836   8.5119   8.5137   8.5327   8.5332   8.5922   8.5933\n",
      "    8.6245   8.6248   8.7018   8.7116   8.8553   8.8634   8.9625   9.0147]\n",
      " [-56.7108 -56.7108 -56.6458 -56.6458 -56.6458 -56.6458 -31.153  -31.153\n",
      "  -31.1477 -31.1477 -31.0604 -31.0604 -30.3997 -30.3997 -30.3959 -30.3959\n",
      "  -30.3707 -30.3707 -30.224  -30.224  -30.138  -30.138  -29.9971 -29.9971\n",
      "  -15.0582 -15.0582  -3.9166  -3.9166  -3.2478  -3.2478  -2.8371  -2.8371\n",
      "   -1.8277  -1.8277  -1.3873  -1.3873  -1.3364  -1.3364   0.0797   0.0797\n",
      "    0.403    0.403    3.1411   3.1411   3.6217   3.6217   3.9203   3.9203\n",
      "    4.4544   4.4544   4.4665   4.4665   4.8094   4.8094   4.8684   4.8684\n",
      "    4.8872   4.8872   5.5716   5.5716   5.5722   5.5722   5.6807   5.6807\n",
      "    5.912    5.912    6.0756   6.0756   6.0946   6.0946   6.7636   6.7636\n",
      "    7.1313   7.1313   8.5169   8.5174   8.5371   8.5421   8.5926   8.594\n",
      "    8.6201   8.6221   8.7057   8.7077   8.7769   8.7785   9.021    9.0572]\n",
      " [-56.7108 -56.7108 -56.6458 -56.6458 -56.6458 -56.6458 -31.153  -31.153\n",
      "  -31.1477 -31.1477 -31.0604 -31.0604 -30.3997 -30.3997 -30.3959 -30.3959\n",
      "  -30.3707 -30.3707 -30.224  -30.224  -30.138  -30.138  -29.9971 -29.9971\n",
      "  -15.0582 -15.0582  -3.9295  -3.9295  -3.2007  -3.2007  -2.8669  -2.8669\n",
      "   -1.8433  -1.8433  -1.3873  -1.3873  -1.3291  -1.3291   0.076    0.076\n",
      "    0.4079   0.4079   3.2009   3.2009   3.6276   3.6276   3.9267   3.9267\n",
      "    4.413    4.413    4.4545   4.4545   4.7305   4.7305   4.8573   4.8573\n",
      "    4.8799   4.8799   5.5421   5.5421   5.5805   5.5805   5.689    5.689\n",
      "    5.9839   5.9839   6.0774   6.0774   6.097    6.097    6.8135   6.8135\n",
      "    7.0616   7.0616   8.5218   8.5255   8.5416   8.5429   8.5916   8.5941\n",
      "    8.6079   8.6082   8.7026   8.7042   8.7082   8.7097   9.0121   9.0636]]\n"
     ]
    }
   ],
   "source": [
    "print('Quantum Espresso example:')\n",
    "KE,weights=qe_out.grep_kpoints_energies()\n",
    "K,E=KE[:,:3],KE[:,3:]\n",
    "print('Kpoints:')\n",
    "print(K[:4])\n",
    "print('Energies:')\n",
    "print(E[:4])"
   ]
  },
  {
   "cell_type": "code",
   "execution_count": 58,
   "id": "67dd87d3-fcdc-40ea-9489-f9543e99d260",
   "metadata": {},
   "outputs": [
    {
     "name": "stdout",
     "output_type": "stream",
     "text": [
      "VASP example:\n",
      "Kpoints:\n",
      "[[0.         0.         0.00506188]\n",
      " [0.01211308 0.00699349 0.00506188]\n",
      " [0.02422616 0.01398698 0.00506188]\n",
      " [0.03633924 0.02098047 0.00506188]]\n",
      "Energies:\n",
      "[[-58.7319 -58.7295 -58.6674 -58.6651 -58.6649 -58.6625 -33.2525 -33.2518\n",
      "  -33.2476 -33.2469 -33.1614 -33.1602 -32.5039 -32.5029 -32.5019 -32.5012\n",
      "  -32.4768 -32.4757 -32.3266 -32.3252 -32.2417 -32.24   -32.0992 -32.0975\n",
      "  -17.2689 -17.2688  -6.0419  -6.0415  -5.4135  -5.4135  -4.9347  -4.9346\n",
      "   -3.9435  -3.9432  -3.5569  -3.5567  -3.5119  -3.5118  -2.0481  -2.0479\n",
      "   -1.7253  -1.7252   0.9507   0.9515   1.4745   1.4748   1.7649   1.7653\n",
      "    2.3336   2.3337   2.3383   2.3385   2.7194   2.7197   2.7415   2.7415\n",
      "    2.7437   2.7439   3.4081   3.4089   3.4559   3.4566   3.5151   3.5162\n",
      "    3.6771   3.6786   3.9301   3.931    3.9476   3.9486   4.565    4.5653\n",
      "    5.0483   5.049    6.3482   6.3497   6.3672   6.3684   6.4252   6.4274\n",
      "    6.4574   6.4585   6.5285   6.5297   6.7459   6.746    6.7937   6.7947\n",
      "    6.8282   6.8299   6.8748   6.8765   7.0158   7.0164   7.072    7.0723]\n",
      " [-58.7312 -58.7289 -58.6677 -58.6655 -58.6653 -58.6628 -33.2517 -33.251\n",
      "  -33.2464 -33.2457 -33.1618 -33.1606 -32.5028 -32.5014 -32.5001 -32.4991\n",
      "  -32.4763 -32.4753 -32.3277 -32.3263 -32.2432 -32.2415 -32.1021 -32.1005\n",
      "  -17.2687 -17.2686  -6.0157  -6.0154  -5.3982  -5.3982  -4.9301  -4.93\n",
      "   -3.9417  -3.9414  -3.5565  -3.5563  -3.5135  -3.5133  -2.1001  -2.0999\n",
      "   -1.815   -1.8148   0.9517   0.9524   1.4587   1.459    1.7051   1.7055\n",
      "    2.2912   2.2913   2.4278   2.4281   2.6377   2.6379   2.759    2.7592\n",
      "    2.7656   2.7659   3.4153   3.4163   3.5473   3.5479   3.5616   3.5627\n",
      "    3.7025   3.704    3.925    3.9264   3.9571   3.9584   4.5074   4.5077\n",
      "    5.162    5.1628   6.341    6.3425   6.3732   6.3742   6.4101   6.4119\n",
      "    6.4462   6.4476   6.5165   6.5177   6.6426   6.643    6.7777   6.7791\n",
      "    6.8452   6.8463   6.9773   6.9783   7.0532   7.0542   7.1298   7.2166]\n",
      " [-58.7294 -58.727  -58.6691 -58.6669 -58.6658 -58.6632 -33.2501 -33.2492\n",
      "  -33.2424 -33.2419 -33.1629 -33.1617 -32.5001 -32.4986 -32.4935 -32.4926\n",
      "  -32.4747 -32.4739 -32.3311 -32.3297 -32.2475 -32.246  -32.1105 -32.1088\n",
      "  -17.2682 -17.2681  -5.9378  -5.9375  -5.3555  -5.3555  -4.9132  -4.9131\n",
      "   -3.9387  -3.9384  -3.5556  -3.5554  -3.5179  -3.5179  -2.247   -2.2468\n",
      "   -2.0535  -2.0534   0.9372   0.9379   1.3417   1.3423   1.7049   1.7054\n",
      "    2.1753   2.1755   2.3859   2.3862   2.6478   2.648    2.8264   2.8268\n",
      "    2.861    2.8615   3.3402   3.3412   3.7147   3.7151   3.753    3.7539\n",
      "    3.8192   3.8199   3.8861   3.8873   4.0201   4.0214   4.3749   4.3754\n",
      "    5.4452   5.4462   6.2477   6.2489   6.3324   6.3345   6.4061   6.4071\n",
      "    6.4157   6.417    6.4953   6.4971   6.5441   6.5448   6.7149   6.7163\n",
      "    6.933    6.9341   7.1304   7.1312   7.1663   7.1692   7.2733   7.3565]\n",
      " [-58.7264 -58.7241 -58.6718 -58.6697 -58.6661 -58.6635 -33.2481 -33.2472\n",
      "  -33.2358 -33.2354 -33.1648 -33.1636 -32.4968 -32.495  -32.4828 -32.4819\n",
      "  -32.4713 -32.4708 -32.3366 -32.3353 -32.2545 -32.2531 -32.1229 -32.1213\n",
      "  -17.2674 -17.2673  -5.8109  -5.8106  -5.2953  -5.2953  -4.8736  -4.8735\n",
      "   -3.9428  -3.9425  -3.5559  -3.5556  -3.525   -3.5249  -2.4657  -2.4655\n",
      "   -2.3764  -2.3762   0.8967   0.8973   1.1576   1.1581   1.8065   1.8071\n",
      "    2.0287   2.029    2.186    2.1863   2.7797   2.78     2.8971   2.8977\n",
      "    2.9845   2.985    3.2657   3.2664   3.7534   3.7541   3.8541   3.8558\n",
      "    3.994    3.9947   4.1056   4.1062   4.1469   4.1481   4.2643   4.2649\n",
      "    5.7774   5.7784   6.0611   6.062    6.2143   6.2164   6.3417   6.3434\n",
      "    6.4687   6.4699   6.4899   6.4914   6.5084   6.509    6.686    6.6874\n",
      "    6.9949   6.996    7.3161   7.3167   7.3809   7.3843   7.4795   7.5062]]\n"
     ]
    }
   ],
   "source": [
    "print('VASP example:')\n",
    "KE,weights=vasp_out.grep_kpoints_energies()\n",
    "K,E=KE[:,:3],KE[:,3:]\n",
    "print('Kpoints:')\n",
    "print(K[:4])\n",
    "print('Energies:')\n",
    "print(E[:4])"
   ]
  },
  {
   "cell_type": "markdown",
   "id": "bf523ad1-b235-49b0-badf-ff05ea7429eb",
   "metadata": {},
   "source": [
    "## Kpoints, energies and projections"
   ]
  },
  {
   "cell_type": "markdown",
   "id": "0472de5f-27c4-4cbb-946c-0de9de8f4343",
   "metadata": {},
   "source": [
    "Scrapping of either:\n",
    "- Quantum Espresso **proj.pwo** output \n",
    "- VASP PROCAR file\n",
    "\n",
    "for further postprocessing."
   ]
  },
  {
   "cell_type": "code",
   "execution_count": null,
   "id": "a836c15c-180a-4add-97d2-ed47f6932a3a",
   "metadata": {},
   "outputs": [],
   "source": [
    "returns STATES, KPOINTS, ENERGIES, PROJECTIONS=qe_out.grep_kpoints_energies_projections()"
   ]
  },
  {
   "cell_type": "markdown",
   "id": "01033f6b-25e4-4134-bbbb-b231b0734958",
   "metadata": {},
   "source": [
    "## K-paths"
   ]
  },
  {
   "cell_type": "code",
   "execution_count": 7,
   "id": "635b2362-5940-439d-a84e-83b75462afcc",
   "metadata": {},
   "outputs": [
    {
     "name": "stdout",
     "output_type": "stream",
     "text": [
      "Reciprocal space positions defining the band structure path\n",
      "[[  0.        0.        0.      100.     ]\n",
      " [  0.5       0.        0.      100.     ]\n",
      " [  0.33333   0.33333   0.      100.     ]\n",
      " [  0.        0.        0.      100.     ]\n",
      " [  0.        0.        0.5     100.     ]\n",
      " [  0.5       0.        0.5     100.     ]\n",
      " [  0.33333   0.33333   0.5     100.     ]\n",
      " [  0.        0.        0.5       1.     ]\n",
      " [  0.5       0.        0.5     100.     ]\n",
      " [  0.5       0.        0.        1.     ]\n",
      " [  0.33333   0.33333   0.      100.     ]\n",
      " [  0.33333   0.33333   0.5       1.     ]]\n"
     ]
    }
   ],
   "source": [
    "#Crystal positions of HSP defining the path\n",
    "qe_in=utils.file('DATA/bands/QE/results_bands/CsV3Sb5.bands.pwi')\n",
    "print('Reciprocal space positions defining the band structure path')\n",
    "print(qe_in.path)"
   ]
  },
  {
   "cell_type": "code",
   "execution_count": 8,
   "id": "8dc6df21-09b2-462d-a02d-8a54473e5950",
   "metadata": {},
   "outputs": [
    {
     "name": "stdout",
     "output_type": "stream",
     "text": [
      "The path is defined by:\n",
      "[[  0.           0.           0.         100.        ]\n",
      " [  0.5          0.           0.         100.        ]\n",
      " [  0.33333333   0.33333333   0.         100.        ]\n",
      " [  0.           0.           0.         100.        ]\n",
      " [  0.           0.           0.5        100.        ]\n",
      " [  0.5          0.           0.5        100.        ]\n",
      " [  0.33333333   0.33333333   0.5        100.        ]\n",
      " [  0.           0.           0.5          1.        ]\n",
      " [  0.5          0.           0.5        100.        ]\n",
      " [  0.5          0.           0.           1.        ]\n",
      " [  0.33333333   0.33333333   0.         100.        ]\n",
      " [  0.33333333   0.33333333   0.5          1.        ]]\n",
      "Where each points corresponds to the label\n",
      "['$\\\\Gamma$', '$M$', '$K$', '$\\\\Gamma$', '$A$', '$L$', '$H$', '$A|L$', '$M|K$', '$H$']\n"
     ]
    }
   ],
   "source": [
    "#Read the KPATH for the band structure according to the (https://www.topologicalquantumchemistry.fr/) format:\n",
    "KPATH=utils.file('DATA/bands/KPATH')\n",
    "print('The path is defined by:')\n",
    "print(KPATH.path)\n",
    "print('Where each points corresponds to the label')\n",
    "print(KPATH.labels)"
   ]
  },
  {
   "cell_type": "markdown",
   "id": "5b223756-b167-43fd-a740-617bed1724be",
   "metadata": {},
   "source": [
    "## Phonon grid"
   ]
  },
  {
   "cell_type": "code",
   "execution_count": 9,
   "id": "1b837cdc-0ab1-4f7f-8b1b-244ebccde1e1",
   "metadata": {},
   "outputs": [
    {
     "name": "stdout",
     "output_type": "stream",
     "text": [
      "The phonon grid used in the calculation is:\n",
      "[[ 0.     0.     0.   ]\n",
      " [ 0.     0.    -0.5  ]\n",
      " [ 0.     0.333  0.   ]\n",
      " [-0.333  0.333  0.   ]\n",
      " [ 0.333 -0.     0.   ]\n",
      " [-0.333  0.     0.   ]\n",
      " [ 0.333 -0.333  0.   ]\n",
      " [ 0.    -0.333  0.   ]\n",
      " [ 0.     0.333 -0.5  ]\n",
      " [-0.333  0.333 -0.5  ]\n",
      " [ 0.333 -0.    -0.5  ]\n",
      " [-0.333  0.    -0.5  ]\n",
      " [ 0.333 -0.333 -0.5  ]\n",
      " [ 0.    -0.333  0.5  ]\n",
      " [ 0.333  0.333  0.   ]\n",
      " [-0.333 -0.333  0.   ]\n",
      " [ 0.333  0.333 -0.5  ]\n",
      " [-0.333 -0.333  0.5  ]]\n"
     ]
    }
   ],
   "source": [
    "#Read the phonon grid and structure from a ph.x output\n",
    "ph_out=utils.file('DATA/phonons/3x3x2/results_ph/CsV3Sb5.ph.pwo')\n",
    "ph_out.grep_ph_grid_points()\n",
    "print('The phonon grid used in the calculation is:')\n",
    "print(ph_out.ph_grid_points)"
   ]
  },
  {
   "cell_type": "markdown",
   "id": "6f211b40-22d0-4d94-8291-1862115cbdf1",
   "metadata": {},
   "source": [
    "# II. Transforming tools"
   ]
  },
  {
   "cell_type": "code",
   "execution_count": 30,
   "id": "970ada21-c9c9-47fb-9e13-bb56da990a82",
   "metadata": {},
   "outputs": [
    {
     "name": "stdout",
     "output_type": "stream",
     "text": [
      "Reciprocal basis:\n",
      "[[0.18169622 0.10490241 0.        ]\n",
      " [0.         0.20980483 0.        ]\n",
      " [0.         0.         0.10123757]]\n",
      "\n",
      "The M point in crystal units is: [0.5, 0, 0]\n",
      "The M point in cartesian units is: [0.09084811 0.05245121 0.        ]\n"
     ]
    }
   ],
   "source": [
    "qe_out=utils.file('DATA/bands/QE/results_scf/CsV3Sb5.scf.pwo')\n",
    "rec_basis=qe_out.reciprocal_lattice()\n",
    "print('Reciprocal basis:')\n",
    "print(rec_basis)\n",
    "print()\n",
    "M_cryst=[1/2,0,0]\n",
    "M_cart=utils.cryst2cartesian(M_cryst,rec_basis)\n",
    "print('The M point in crystal units is:', M_cryst)\n",
    "print('The M point in cartesian units is:', M_cart)"
   ]
  }
 ],
 "metadata": {
  "kernelspec": {
   "display_name": "test_env",
   "language": "python",
   "name": "test_env"
  },
  "language_info": {
   "codemirror_mode": {
    "name": "ipython",
    "version": 3
   },
   "file_extension": ".py",
   "mimetype": "text/x-python",
   "name": "python",
   "nbconvert_exporter": "python",
   "pygments_lexer": "ipython3",
   "version": "3.10.16"
  }
 },
 "nbformat": 4,
 "nbformat_minor": 5
}
